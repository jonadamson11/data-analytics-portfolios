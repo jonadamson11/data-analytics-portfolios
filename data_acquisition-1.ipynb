{
  "nbformat": 4,
  "nbformat_minor": 0,
  "metadata": {
    "colab": {
      "provenance": []
    },
    "kernelspec": {
      "name": "python3",
      "display_name": "Python 3"
    },
    "language_info": {
      "name": "python"
    }
  },
  "cells": [
    {
      "cell_type": "markdown",
      "source": [
        "###Project 2: Janine Quigley and Jon Adamson\n",
        "#### For this project, our team is interested in reviewing and analyzing political data from the 116th United States House of Representatives. Our central question is: What political factors have an effect on the progress of a bill in the House of Representatives?\n",
        "#### To answer this question, we are websraping from *clerk.house.gov* to look at specific bills and the voting breakdown of yes/no votes on that bill. Additionally, we are gathering the House member name, party, and state.\n",
        "\n",
        "Data Source: https://clerk.house.gov/evs/2018/roll023.xml with roll number changing depending on what bill is being scraped."
      ],
      "metadata": {
        "id": "lMdWya9taXWq"
      }
    },
    {
      "cell_type": "markdown",
      "source": [
        "#### Step 1: Import Libraries"
      ],
      "metadata": {
        "id": "afbF_lDTdDDm"
      }
    },
    {
      "cell_type": "code",
      "source": [
        "import pandas as pd\n",
        "import requests\n",
        "from lxml import etree\n",
        "import io\n",
        "import random\n",
        "import plotly.express as px"
      ],
      "metadata": {
        "id": "LUtO1PKQdB1W"
      },
      "execution_count": 90,
      "outputs": []
    },
    {
      "cell_type": "markdown",
      "source": [
        "#### Step 2: Create Lists of Lists from .xml scraping"
      ],
      "metadata": {
        "id": "XicDDM1wdKkk"
      }
    },
    {
      "cell_type": "code",
      "source": [
        "def reader(bill):\n",
        "  ''' \n",
        "  Reads xml links, checks response status code, and returns the roots of the tree\n",
        "  Inputs: Number of bill whose vote data will be scraped\n",
        "  Outputs: Returns the root of the tree\n",
        "  \n",
        "  '''\n",
        "\n",
        "  xml = f'https://clerk.house.gov/evs/2019/roll{bill}.xml' #bill number must be 3 digits\n",
        "  response = requests.get(xml)\n",
        "\n",
        "  #assert response.status_code == 200\n",
        "\n",
        "  response.content\n",
        "  htmlparser = etree.HTMLParser()\n",
        "  tree1 = etree.parse(io.BytesIO(response.content), htmlparser)\n",
        "  root = tree1.getroot()\n",
        "  return root\n",
        "\n",
        "\n",
        "def legnum(root):\n",
        "    legisnumber = root.xpath('.//legis-num/text()')\n",
        "    return legisnumber\n",
        "\n",
        "def varlist(root,var):\n",
        "  '''\n",
        "  Uses xpath notation to return the 'vote-data' element, whose children contain the data we want to scrape.\n",
        "  Inputs: root: root that is returned from the reader(bill) function\n",
        "          var: the rest of the xpath phrase that gaqthers information on the intended variable\n",
        "  Outputs: The first item in the vote-data list with the children needed to get the rest of the data\n",
        "\n",
        "  '''\n",
        "  votedata = root.xpath('.//vote-data')\n",
        "  votedata = votedata[0].xpath(f\"./recorded-vote/{var}\") # use var to choose which variable to grab\n",
        "\n",
        "  return votedata\n",
        "\n",
        "\n",
        "def listoflists(root):\n",
        "  ''' \n",
        "  Creates a list of lists with the bill's House members, member state, member party, and member vote.\n",
        "  Inputs: None\n",
        "  Outputs: List of lists\n",
        "  '''\n",
        "  states = varlist(root,'legislator/@state')\n",
        "  names = varlist(root,'legislator/@unaccented-name')\n",
        "  party = varlist(root,'legislator/@party')\n",
        "  vote = varlist(root,'vote/text()')\n",
        "  data = [] #empty list\n",
        "  data.append(names) # appending to make LoL\n",
        "  data.append(states)\n",
        "  data.append(party)\n",
        "  data.append(vote)\n",
        "  return data"
      ],
      "metadata": {
        "id": "gBkPg1Os_i0C"
      },
      "execution_count": 91,
      "outputs": []
    },
    {
      "cell_type": "markdown",
      "source": [
        "#### Step 3: Create Dataframe from Lists of Lists"
      ],
      "metadata": {
        "id": "dBT2DG0NdT8O"
      }
    },
    {
      "cell_type": "code",
      "source": [
        "def dataframe(lol):\n",
        "  ''' \n",
        "  Creates a datafrom from a list of lists.\n",
        "  Inputs: lol: a list of lists\n",
        "  Outputs: pandas dataframe\n",
        "  '''\n",
        "  df = pd.DataFrame(lol)\n",
        "  df = df.T\n",
        "  df.set_axis(['Name','State','Party','Vote'],axis='columns',inplace=True) # setting axis names\n",
        "  return df\n"
      ],
      "metadata": {
        "id": "JHbbMQCAdUf4"
      },
      "execution_count": 92,
      "outputs": []
    },
    {
      "cell_type": "code",
      "source": [
        "data116 = pd.read_csv('house_legislation_116.csv')"
      ],
      "metadata": {
        "id": "J-MLsNQngv3J"
      },
      "execution_count": 93,
      "outputs": []
    },
    {
      "cell_type": "markdown",
      "source": [
        "#### We plan on using these dataframes in combination with the rest of our data to answer our central question. This data provides us with some of the political factors we believe will affect the progress of a bill. We can use these dataframes to make visualizations to compare the member party versus the yes/no distribution of votes. Also, these dataframes give us the opportunity to run statistical tests to see if one party is more likely to vote yes or no based on the policy area."
      ],
      "metadata": {
        "id": "tUGOenYufu67"
      }
    },
    {
      "cell_type": "code",
      "source": [
        "import sqlite3 as sql\n",
        "def sqlcreate(db,cqry,num):\n",
        "  '''\n",
        "  Establishes a connection to a sql database\n",
        "  Input: db, cqry, num\n",
        "  Output: None\n",
        "  '''\n",
        "  connection = sql.connect(db)\n",
        "  cursor = connection.cursor()\n",
        "  cursor.execute(cqry)"
      ],
      "metadata": {
        "id": "uHL3BevUva6G"
      },
      "execution_count": 94,
      "outputs": []
    },
    {
      "cell_type": "code",
      "source": [
        "cqry = '''\n",
        "CREATE TABLE votetable(\n",
        "  Name VARCHAR(100) NOT NULL,\n",
        "  State VARCHAR(100) NOT NULL,\n",
        "  Party VARCHAR(100) NOT NULL,\n",
        "  Vote VARCHAR(100) NOT NULL,\n",
        "  PRIMARY KEY (Name)\n",
        "  )\n",
        "  '''"
      ],
      "metadata": {
        "id": "kzNLVIT7dU3w"
      },
      "execution_count": 95,
      "outputs": []
    },
    {
      "cell_type": "code",
      "source": [
        "def lolcreation(df):\n",
        "  '''\n",
        "  Takes a dataframe and returns a list of tuples\n",
        "  Input: dataframe\n",
        "  Output: s, list of tuples\n",
        "  '''\n",
        "  lol = []\n",
        "  for i in range(len(df)):\n",
        "    a = list(df.iloc[i])\n",
        "    lol.append(tuple(a))\n",
        "  s = ''\n",
        "  for row in lol[:-1]:\n",
        "    s += str(row) + ', '\n",
        "  s = s+ str(lol[-1])\n",
        "  return s\n",
        "\n",
        "\n",
        "def insertdb(df,db,iqry,s):\n",
        "  '''\n",
        "  Inserts data into database\n",
        "  Input: df, db, iqry, s\n",
        "  Output: None\n",
        "  '''\n",
        "  connection = sql.connect(db)\n",
        "  cursor = connection.cursor()\n",
        "  cursor.execute(iqry)\n",
        "  connection.commit()\n"
      ],
      "metadata": {
        "id": "1LrJLe3zwvLn"
      },
      "execution_count": 96,
      "outputs": []
    },
    {
      "cell_type": "code",
      "source": [
        "def sqlselect(db,sqry):\n",
        "  '''\n",
        "  \n",
        "  '''\n",
        "  connection = sql.connect(db)\n",
        "  cursor = connection.cursor()\n",
        "  result = cursor.execute(sqry)\n",
        "  return result.fetchall()"
      ],
      "metadata": {
        "id": "x1dNEyHzNO8O"
      },
      "execution_count": 97,
      "outputs": []
    },
    {
      "cell_type": "code",
      "source": [
        "def loop(numb):\n",
        "  '''\n",
        "  Creates a list of random numbers that will be used to read and scrape bill information\n",
        "  Input: numb, a number\n",
        "  output: billnumber, list of random numbers\n",
        "  '''\n",
        "  bills = []\n",
        "  billnumber = []\n",
        "  for i in range(numb):\n",
        "    bills.append(random.randint(1,700))\n",
        "  for item in bills:\n",
        "    if item < 100:\n",
        "      item = \"0\" + str(item)\n",
        "    elif item < 10:\n",
        "      item = '00' + str(item)\n",
        "    billnumber.append(item)\n",
        "  return billnumber\n",
        "\n",
        "\n",
        "def loop2(root,billnumber):\n",
        "  '''\n",
        "  Uses reader function and appends the HR number of the bill to a list\n",
        "  Input: root, billnumber\n",
        "  Output: HRnum, list containing the HR numbers of the bills we are using\n",
        "\n",
        "  '''\n",
        "  HR = []\n",
        "  HRnum = []\n",
        "  for item in billnumber:\n",
        "    root = reader(item)\n",
        "    number = legnum(root)\n",
        "    HR.append(number)\n",
        "    for item in HR:\n",
        "      if len(item) == 1:\n",
        "        item = item[0].replace(' ','.')\n",
        "        HRnum.append(item)\n",
        "    return HRnum\n",
        "\n",
        "def loopinfo(HRnum):\n",
        "  '''\n",
        "  Iterates through HRnum list and extracts the specific bill information.\n",
        "  This information is appended to a dictionary that contains policy area of the bill and bill progress.\n",
        "  Input: HRnum\n",
        "  Output: abdict, dictionary. \n",
        "  '''\n",
        "  abdict = {'Area':[],'Status':[]}\n",
        "  for item in HRnum:\n",
        "    a = data116.loc[data116['bill_id'] == item]['policy_area']\n",
        "    for obj in a:\n",
        "      abdict['Area'].append(obj)\n",
        "  for item in HRnum:\n",
        "    b = data116.loc[data116['bill_id'] == item]['bill_progress']\n",
        "    for obj in b:\n",
        "      abdict['Status'].append(obj)\n",
        "  return abdict\n"
      ],
      "metadata": {
        "id": "i0Vfua6f6-IG"
      },
      "execution_count": 98,
      "outputs": []
    },
    {
      "cell_type": "code",
      "source": [
        "db = 'test1.db'\n",
        "def finalpopulate(n):\n",
        "  '''\n",
        "  Takes n(number) and uses an SQL statement that creates n empty tables in our database, each corresponding to a bill. \n",
        "  The tables are then populating with the data of each respective bill using an SQL statement.\n",
        "  Inputs: n, a number\n",
        "  Outputs: \n",
        "  '''\n",
        "  billnumber = ['043', 367, 487, 674, 234, 345, 341, 352, 525, 191]\n",
        "  for item in billnumber:\n",
        "    root = reader(item)\n",
        "    lol = listoflists(root)\n",
        "    df = dataframe(lol)\n",
        "    HRnum = loop2(root,billnumber)\n",
        "    cqry = f'''\n",
        "CREATE TABLE votetable{item}(\n",
        "  Name VARCHAR(100) NOT NULL,\n",
        "  State VARCHAR(100) NOT NULL,\n",
        "  Party VARCHAR(100) NOT NULL,\n",
        "  Vote VARCHAR(100) NOT NULL,\n",
        "  PRIMARY KEY (Name)\n",
        "  )\n",
        "  '''\n",
        "    sqlcreate(db,cqry,n)\n",
        "    s = lolcreation(df)\n",
        "    iqry = f'''INSERT INTO votetable{item} VALUES ''' + s\n",
        "    insertdb(df,db,iqry,s)\n",
        "finalpopulate(10)"
      ],
      "metadata": {
        "id": "iczIXurGDy0S"
      },
      "execution_count": 99,
      "outputs": []
    }
  ]
}