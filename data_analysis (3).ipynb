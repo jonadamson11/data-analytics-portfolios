{
  "nbformat": 4,
  "nbformat_minor": 0,
  "metadata": {
    "colab": {
      "provenance": [],
      "collapsed_sections": [
        "Rpe_vu89-aRa"
      ]
    },
    "kernelspec": {
      "name": "python3",
      "display_name": "Python 3"
    },
    "language_info": {
      "name": "python"
    }
  },
  "cells": [
    {
      "cell_type": "markdown",
      "source": [
        "- Janine Quigley and Jon Adamson\n",
        "- 13 December 2022\n",
        "- CS 181\n",
        "- Dr. Asif"
      ],
      "metadata": {
        "id": "M8V1NVEO86sE"
      }
    },
    {
      "cell_type": "markdown",
      "source": [
        "Loading in libraries"
      ],
      "metadata": {
        "id": "y8WapKpZ-Wa3"
      }
    },
    {
      "cell_type": "code",
      "source": [
        "import pandas as pd\n",
        "import requests\n",
        "from lxml import etree\n",
        "import io\n",
        "import random\n",
        "import sqlite3 as sql\n",
        "import plotly.express as px\n",
        "import numpy as np"
      ],
      "metadata": {
        "id": "GH818rBr5D0O"
      },
      "execution_count": 21,
      "outputs": []
    },
    {
      "cell_type": "markdown",
      "source": [
        "Below is when we load in the .csv file and use Pandas to turn it into a dataframe. From this dataframe, we will get the policy area and status of a particular bill. This dataframe will be referenced later in the finalgraph() function."
      ],
      "metadata": {
        "id": "c5fnqr_79nqV"
      }
    },
    {
      "cell_type": "code",
      "source": [
        "data116 = pd.read_csv('house_legislation_116.csv')"
      ],
      "metadata": {
        "id": "6JUjIvKh5dXB"
      },
      "execution_count": 22,
      "outputs": []
    },
    {
      "cell_type": "markdown",
      "source": [
        "#### Below is when we define all of the functions that we will use in the finalgraph() function."
      ],
      "metadata": {
        "id": "Rpe_vu89-aRa"
      }
    },
    {
      "cell_type": "code",
      "source": [
        "def reader(bill):\n",
        "  ''' \n",
        "  Reads xml links, checks response status code, and returns the roots of the tree\n",
        "  Inputs: Number of bill whose vote data will be scraped\n",
        "  Outputs: Returns the root of the tree\n",
        "  \n",
        "  '''\n",
        "\n",
        "  xml = f'https://clerk.house.gov/evs/2019/roll{bill}.xml' #bill number must be 3 digits\n",
        "  response = requests.get(xml)\n",
        "\n",
        "  #assert response.status_code == 200\n",
        "\n",
        "  response.content\n",
        "  htmlparser = etree.HTMLParser()\n",
        "  tree1 = etree.parse(io.BytesIO(response.content), htmlparser)\n",
        "  root = tree1.getroot()\n",
        "  return root"
      ],
      "metadata": {
        "id": "wH2n8jSs8lDS"
      },
      "execution_count": 23,
      "outputs": []
    },
    {
      "cell_type": "code",
      "source": [
        "def varlist(root,var):\n",
        "  '''\n",
        "  Uses xpath notation to return the 'vote-data' element, whose children contain the data we want to scrape.\n",
        "  Inputs: root: root that is returned from the reader(bill) function\n",
        "          var: the rest of the xpath phrase that gaqthers information on the intended variable\n",
        "  Outputs: The first item in the vote-data list with the children needed to get the rest of the data\n",
        "\n",
        "  '''\n",
        "  votedata = root.xpath('.//vote-data')\n",
        "  votedata = votedata[0].xpath(f\"./recorded-vote/{var}\") # use var to choose which variable to grab\n",
        "\n",
        "  return votedata"
      ],
      "metadata": {
        "id": "pTgo_TbuP68S"
      },
      "execution_count": 24,
      "outputs": []
    },
    {
      "cell_type": "code",
      "source": [
        "def listoflists(root):\n",
        "  ''' \n",
        "  Creates a list of lists with the bill's House members, member state, member party, and member vote.\n",
        "  Inputs: None\n",
        "  Outputs: List of lists\n",
        "  '''\n",
        "  states = varlist(root,'legislator/@state')\n",
        "  names = varlist(root,'legislator/@unaccented-name')\n",
        "  party = varlist(root,'legislator/@party')\n",
        "  vote = varlist(root,'vote/text()')\n",
        "  data = [] #empty list\n",
        "  data.append(names) # appending to make LoL\n",
        "  data.append(states)\n",
        "  data.append(party)\n",
        "  data.append(vote)\n",
        "  return data"
      ],
      "metadata": {
        "id": "qdJYQJz1P5oy"
      },
      "execution_count": 25,
      "outputs": []
    },
    {
      "cell_type": "code",
      "source": [
        "def legnum(root):\n",
        "    legisnumber = root.xpath('.//legis-num/text()')\n",
        "    return legisnumber"
      ],
      "metadata": {
        "id": "MrLEmyxJ-sMl"
      },
      "execution_count": 26,
      "outputs": []
    },
    {
      "cell_type": "code",
      "source": [
        "def dataframe(lol):\n",
        "  ''' \n",
        "  Creates a datafrom from a list of lists.\n",
        "  Inputs: lol: a list of lists\n",
        "  Outputs: pandas dataframe\n",
        "  '''\n",
        "  df = pd.DataFrame(lol)\n",
        "  df = df.T\n",
        "  df.set_axis(['Name','State','Party','Vote'],axis='columns',inplace=True) # setting axis names\n",
        "  return df"
      ],
      "metadata": {
        "id": "Gw2jKKJXQNgT"
      },
      "execution_count": 27,
      "outputs": []
    },
    {
      "cell_type": "code",
      "source": [
        "def lolcreation(df):\n",
        "  lol = []\n",
        "  for i in range(len(df)):\n",
        "    a = list(df.iloc[i])\n",
        "    lol.append(tuple(a))\n",
        "  s = ''\n",
        "  for row in lol[:-1]:\n",
        "    s += str(row) + ', '\n",
        "  s = s+ str(lol[-1])\n",
        "  return s\n",
        "\n",
        "\n",
        "def insertdb(df,db,iqry,s):\n",
        "  connection = sql.connect(db)\n",
        "  cursor = connection.cursor()\n",
        "  cursor.execute(iqry)\n",
        "  connection.commit()"
      ],
      "metadata": {
        "id": "0vyUSnA4Py5o"
      },
      "execution_count": 28,
      "outputs": []
    },
    {
      "cell_type": "code",
      "source": [
        "def sqlselect(db,sqry):\n",
        "  connection = sql.connect(db)\n",
        "  cursor = connection.cursor()\n",
        "  result = cursor.execute(sqry)\n",
        "  return result.fetchall()"
      ],
      "metadata": {
        "id": "sGRb_hXs5UhJ"
      },
      "execution_count": 29,
      "outputs": []
    },
    {
      "cell_type": "code",
      "source": [
        "def sqlcreate(db,cqry):\n",
        "  connection = sql.connect(db)\n",
        "  cursor = connection.cursor()\n",
        "  cursor.execute(cqry)"
      ],
      "metadata": {
        "id": "fcyg7OfFQHvS"
      },
      "execution_count": 30,
      "outputs": []
    },
    {
      "cell_type": "code",
      "source": [
        "def loop(numb):\n",
        "  bills = []\n",
        "  billnumber = []\n",
        "  for i in range(numb):\n",
        "    bills.append(random.randint(1,700))\n",
        "  for item in bills:\n",
        "    if item < 100:\n",
        "      item = \"0\" + str(item)\n",
        "    elif item < 10:\n",
        "      item = '00' + str(item)\n",
        "    billnumber.append(item)\n",
        "  return billnumber"
      ],
      "metadata": {
        "id": "BAnNFNIu-1Cd"
      },
      "execution_count": 31,
      "outputs": []
    },
    {
      "cell_type": "code",
      "source": [
        "def loop2(root,billnumber):\n",
        "    HR = []\n",
        "    HRnum = []\n",
        "    for item in billnumber:\n",
        "      root = reader(item)\n",
        "      number = legnum(root)\n",
        "      HR.append(number)\n",
        "    for item in HR:\n",
        "      if len(item) == 1:\n",
        "        item = item[0].replace(' ','.')\n",
        "        HRnum.append(item)\n",
        "    return HRnum"
      ],
      "metadata": {
        "id": "a8DnPc1Y8LZ0"
      },
      "execution_count": 32,
      "outputs": []
    },
    {
      "cell_type": "code",
      "source": [
        "def loopinfo(HRnum):\n",
        "  abdict = {'Area':[],'Status':[]}\n",
        "  for item in HRnum:\n",
        "    a = data116.loc[data116['bill_id'] == item]['policy_area']\n",
        "    if a.empty==True:\n",
        "      abdict['Area'].append('NA')\n",
        "    else:\n",
        "      for obj in a:\n",
        "        abdict['Area'].append(obj)\n",
        "  for item in HRnum:\n",
        "    b = data116.loc[data116['bill_id'] == item]['bill_progress']\n",
        "    if b.empty == True:\n",
        "        abdict['Status'].append('NA')\n",
        "    else:\n",
        "      for obj in b:\n",
        "        abdict['Status'].append(obj)\n",
        "  return abdict"
      ],
      "metadata": {
        "id": "IueGn0mZ5a61"
      },
      "execution_count": 33,
      "outputs": []
    },
    {
      "cell_type": "markdown",
      "source": [
        "#### Final Analysis"
      ],
      "metadata": {
        "id": "_VPWMOwjua0K"
      }
    },
    {
      "cell_type": "code",
      "execution_count": 35,
      "metadata": {
        "id": "jEsDjoQftGnE"
      },
      "outputs": [],
      "source": [
        "db = 'test1.db'\n",
        "def finalpopulate(n):\n",
        "  '''\n",
        "  Populates DB table according to bill number\n",
        "  '''\n",
        "  i = 0\n",
        "  billnumber = ['043', 367, 487, 674, 234, 345, 341, 352, 525, 191]\n",
        "  for item in billnumber:\n",
        "    root = reader(item)\n",
        "    lol = listoflists(root)\n",
        "    df = dataframe(lol)\n",
        "    HRnum = loop2(root,billnumber)\n",
        "    cqry = f'''\n",
        "  CREATE TABLE votetable{item}(\n",
        "  Name VARCHAR(100) NOT NULL,\n",
        "  State VARCHAR(100) NOT NULL,\n",
        "  Party VARCHAR(100) NOT NULL,\n",
        "  Vote VARCHAR(100) NOT NULL,\n",
        "  PRIMARY KEY (Name)\n",
        "  )\n",
        "  '''\n",
        "    sqlcreate(db,cqry)\n",
        "    s = lolcreation(df)\n",
        "    iqry = f'''INSERT INTO votetable{item} VALUES ''' + s\n",
        "    insertdb(df,db,iqry,s)\n",
        "    i = i+1\n",
        "finalpopulate(10)\n",
        "\n",
        "\n"
      ]
    },
    {
      "cell_type": "code",
      "source": [
        "billnumber = ['043', 367, 487, 674, 234, 345, 341, 352, 525, 191]\n",
        "def finalgraph(n): \n",
        "  '''\n",
        "  Creates a graph for each bill that is accessed through the DB\n",
        "  '''\n",
        "  j = 0\n",
        "  for item in billnumber:\n",
        "    root = reader(item)\n",
        "    HRnum = loop2(root,billnumber)\n",
        "    sqry = f'SELECT * from \"votetable{item}\"'\n",
        "    a = sqlselect(db,sqry)\n",
        "    dataframe1 = pd.DataFrame(a)\n",
        "    abdict = loopinfo(HRnum)\n",
        "    print(abdict)\n",
        "    fig1 = px.bar(dataframe1,x=3,color=2,title=f'Bill:'+ str(HRnum[j]) + ', Policy Area:' + \n",
        "                str(abdict['Area'][j])+', Status:' + str(abdict['Status'][j]))\n",
        "    fig1.show()\n",
        "    j = j+1\n",
        "\n",
        "finalgraph(10)"
      ],
      "metadata": {
        "id": "sxhYbT1wWf48"
      },
      "execution_count": null,
      "outputs": []
    },
    {
      "cell_type": "markdown",
      "source": [
        "\n",
        "\n",
        ">   After doing analysis on this .csv database and SQL databse, we have been able to make a lot of progress on answering our final question. We have noticed trends within policy areas and within political parties. \n",
        "\n",
        "> For the Democratic party, bills with the policy area \"Public Lands and Natural Resources\", \"Labor and Employment\", and \"Immigration\" were more likely to be approved and passed.\n",
        "\n",
        "> For the Republican party, bills with the policy area \"Crime and Law Enforcement\", \"Government Operations and Politics\", and \"Armed Forces and National Security\" were more likely to be approved.\n",
        "\n",
        "> We found that the policy areas with the highest frequency of parties voting the same way were \"Economics and Public Finance\", \"International Affairs\", and \"Wealth\""
      ],
      "metadata": {
        "id": "SYR-WZyAbHAD"
      }
    }
  ]
}